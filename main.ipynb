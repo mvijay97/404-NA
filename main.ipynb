{
 "cells": [
  {
   "cell_type": "code",
   "execution_count": 45,
   "metadata": {
    "collapsed": true
   },
   "outputs": [],
   "source": [
    "import sys\n",
    "sys.path.append('modules')\n",
    "import pandas as pd\n",
    "import numpy as np\n",
    "import random \n",
    "import pickle\n",
    "\n",
    "from recommend import *\n",
    "from evaluate import *\n",
    "from similarity import Similarity\n",
    "from preference_generation import *\n",
    "from present_score_generation import *\n",
    "from user_restaurant_matrix import *\n",
    "\n",
    "from sklearn.metrics.pairwise import cosine_similarity\n",
    "import warnings\n",
    "warnings.filterwarnings('ignore')\n",
    "pd.options.display.max_rows = 4000\n",
    "\n",
    "\n"
   ]
  },
  {
   "cell_type": "markdown",
   "metadata": {},
   "source": [
    "Read in the user, business and review files <br>\n",
    "Initialise the lists of valid user and valid_business"
   ]
  },
  {
   "cell_type": "code",
   "execution_count": 41,
   "metadata": {
    "collapsed": true
   },
   "outputs": [],
   "source": [
    "user_df=pd.read_csv('Data/'+'yelp_academic_dataset_user_pruned.csv')\n",
    "business=pd.read_csv('Data/'+'yelp_academic_dataset_business_pruned.csv')\n",
    "review_df=pd.read_csv('Data/'+'yelp_academic_dataset_review_pruned.csv')\n",
    "\n",
    "valid_users=user_df['user_id'].unique()\n",
    "valid_businesses=business['business_id'].unique()"
   ]
  },
  {
   "cell_type": "markdown",
   "metadata": {},
   "source": [
    "Drop all attributes that are not relevant"
   ]
  },
  {
   "cell_type": "code",
   "execution_count": 24,
   "metadata": {
    "collapsed": true
   },
   "outputs": [],
   "source": [
    "business_names=business['name']\n",
    "attrs=[i for i in (business.columns) if business[i].dtype=='object']+['latitude','longitude','stars','review_count']\n",
    "attrs.remove('business_id')\n",
    "business_df=business.drop(attrs,axis=1)"
   ]
  },
  {
   "cell_type": "markdown",
   "metadata": {},
   "source": [
    "Generate a k-user subset representing the group is users for whom the recommendation is to be made <br>\n",
    "Configure k as required"
   ]
  },
  {
   "cell_type": "code",
   "execution_count": 13,
   "metadata": {
    "collapsed": true
   },
   "outputs": [],
   "source": [
    "k=3\n",
    "user_group=random.sample(list(valid_users),k)"
   ]
  },
  {
   "cell_type": "markdown",
   "metadata": {},
   "source": [
    "Generate the preference (n_user x n_businesses) score matrix"
   ]
  },
  {
   "cell_type": "code",
   "execution_count": 5,
   "metadata": {
    "collapsed": true,
    "scrolled": true
   },
   "outputs": [],
   "source": [
    "preference_df=get_preferences(user_df,review_df,business_df)"
   ]
  },
  {
   "cell_type": "markdown",
   "metadata": {},
   "source": [
    "Generate the (k x n_businesses) present score matrix "
   ]
  },
  {
   "cell_type": "code",
   "execution_count": null,
   "metadata": {
    "collapsed": true,
    "scrolled": true
   },
   "outputs": [],
   "source": [
    "present_score=get_present_score_mat(user_df,review_df,business_df,preference_df,user_group)"
   ]
  },
  {
   "cell_type": "markdown",
   "metadata": {},
   "source": [
    "Generate the restaurant-similarity matrix"
   ]
  },
  {
   "cell_type": "code",
   "execution_count": 26,
   "metadata": {
    "collapsed": true
   },
   "outputs": [],
   "source": [
    "mapping=dict(zip(business_df.business_id,range(0,len(business_df))))\n",
    "restaurant_similarity=Similarity(cosine_similarity(business_df.drop('business_id',axis=1)),mapping)"
   ]
  },
  {
   "cell_type": "markdown",
   "metadata": {},
   "source": [
    "Generate the (k x n_business) imputed ratings"
   ]
  },
  {
   "cell_type": "code",
   "execution_count": 27,
   "metadata": {
    "collapsed": true
   },
   "outputs": [],
   "source": [
    "imputed_ratings=make_user_rest_matrix(present_score,business_df,user_group,restaurant_similarity)"
   ]
  },
  {
   "cell_type": "code",
   "execution_count": 30,
   "metadata": {
    "collapsed": true
   },
   "outputs": [],
   "source": [
    "business_df=business_df.drop('business_id',axis=1) #No longer required"
   ]
  },
  {
   "cell_type": "markdown",
   "metadata": {},
   "source": [
    "Compute the aggregate score for each restaurant"
   ]
  },
  {
   "cell_type": "code",
   "execution_count": 31,
   "metadata": {
    "collapsed": true
   },
   "outputs": [],
   "source": [
    "top_pick=aggregate_scores(imputed_ratings)\n",
    "top_pick_business=business_df.iloc[top_pick]"
   ]
  },
  {
   "cell_type": "markdown",
   "metadata": {},
   "source": [
    "Specify the constraints and synthesise an ideal restuarant that satsifies these constraints"
   ]
  },
  {
   "cell_type": "code",
   "execution_count": 32,
   "metadata": {
    "collapsed": true
   },
   "outputs": [],
   "source": [
    "constraints={'attributes.DogsAllowed':1,'attributes.DietaryRestrictions.halal':1,'attributes.DietaryRestrictions.vegan':0}\n",
    "ideal_restaurant=get_ideal_restaurant(constraints,top_pick_business)"
   ]
  },
  {
   "cell_type": "markdown",
   "metadata": {},
   "source": [
    "Specify the number of recommendations to be returned (i.e. top n recommendations) <br>\n",
    "Compute the cosine similarity of the synthesised restaurants to all other restaurants in teh dataset and choose the n most similar of them"
   ]
  },
  {
   "cell_type": "code",
   "execution_count": 33,
   "metadata": {
    "collapsed": true
   },
   "outputs": [],
   "source": [
    "n=10\n",
    "ideal_similarity=list(cosine_similarity(ideal_restaurant.reshape(1, -1),business_df)[0])\n",
    "top_k=list(np.argsort(ideal_similarity))\n",
    "top_k.reverse()\n",
    "top_k=top_k[0:k]"
   ]
  },
  {
   "cell_type": "markdown",
   "metadata": {},
   "source": [
    "Compute the Least Satisfaction and Average Satisfaction criterion for the k recommended restaurants"
   ]
  },
  {
   "cell_type": "code",
   "execution_count": null,
   "metadata": {
    "collapsed": true
   },
   "outputs": [],
   "source": [
    "least=[]\n",
    "avg=[]\n",
    "for i in top_k:\n",
    "    least.append(least_satisfaction(preference_df.loc[preference_df.user_id.isin(user_group)].drop('user_id',axis=1),business_df.iloc[i]))\n",
    "    avg.append(avg_satisfaction(preference_df.loc[preference_df.user_id.isin(user_group)].drop('user_id',axis=1),business_df.iloc[i]))\n",
    "print(\"Least Satisfaction Scores:\")\n",
    "print(least)\n",
    "print(\"Average Satisfaction Scores:\")\n",
    "print(avg)\n"
   ]
  },
  {
   "cell_type": "markdown",
   "metadata": {},
   "source": [
    "Sort the recommended restaurants based on the least satisfaction score <br>\n",
    "Display the results based on least satisfaction"
   ]
  },
  {
   "cell_type": "code",
   "execution_count": null,
   "metadata": {
    "collapsed": true
   },
   "outputs": [],
   "source": [
    "for i in np.flip(np.argsort(least)):\n",
    "    print(business_names[top_k[i]])"
   ]
  },
  {
   "cell_type": "markdown",
   "metadata": {},
   "source": [
    "Sort the recommended restaurants based on the average satisfaction score <br>\n",
    "Display the results based on average satisfaction"
   ]
  },
  {
   "cell_type": "code",
   "execution_count": null,
   "metadata": {
    "collapsed": true
   },
   "outputs": [],
   "source": [
    "for i in np.flip(np.argsort(avg)):\n",
    "    print(business_names[top_k[i]])"
   ]
  }
 ],
 "metadata": {
  "kernelspec": {
   "display_name": "Python 3",
   "language": "python",
   "name": "python3"
  },
  "language_info": {
   "codemirror_mode": {
    "name": "ipython",
    "version": 3
   },
   "file_extension": ".py",
   "mimetype": "text/x-python",
   "name": "python",
   "nbconvert_exporter": "python",
   "pygments_lexer": "ipython3",
   "version": "3.6.5"
  }
 },
 "nbformat": 4,
 "nbformat_minor": 2
}
